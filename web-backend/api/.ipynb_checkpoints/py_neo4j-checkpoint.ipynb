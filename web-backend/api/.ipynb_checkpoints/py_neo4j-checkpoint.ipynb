{
 "cells": [
  {
   "cell_type": "code",
   "execution_count": 2,
   "id": "initial_id",
   "metadata": {},
   "outputs": [],
   "source": [
    "import numpy as np\n",
    "\n",
    "# 读取.npy文件\n",
    "data = np.load('../kg_data/ref_paper_KG.npy', allow_pickle=True)\n",
    "\n",
    "keywords_dic = data.item()\n"
   ]
  },
  {
   "cell_type": "code",
   "execution_count": 3,
   "id": "17870d37",
   "metadata": {},
   "outputs": [],
   "source": [
    "keywords = keywords_dic.get('keywords')\n",
    "U_mat = keywords_dic.get('U_mat')"
   ]
  },
  {
   "cell_type": "code",
   "execution_count": 7,
   "id": "e917fb34",
   "metadata": {},
   "outputs": [
    {
     "data": {
      "text/plain": [
       "278"
      ]
     },
     "execution_count": 7,
     "metadata": {},
     "output_type": "execute_result"
    }
   ],
   "source": [
    "len(keywords)"
   ]
  },
  {
   "cell_type": "code",
   "execution_count": 6,
   "id": "2e2099f7",
   "metadata": {},
   "outputs": [
    {
     "data": {
      "text/plain": [
       "1123"
      ]
     },
     "execution_count": 6,
     "metadata": {},
     "output_type": "execute_result"
    }
   ],
   "source": [
    "len(U_mat)"
   ]
  },
  {
   "cell_type": "code",
   "execution_count": null,
   "id": "38f9de8a",
   "metadata": {},
   "outputs": [],
   "source": []
  }
 ],
 "metadata": {
  "kernelspec": {
   "display_name": "Python 3 (ipykernel)",
   "language": "python",
   "name": "python3"
  },
  "language_info": {
   "codemirror_mode": {
    "name": "ipython",
    "version": 3
   },
   "file_extension": ".py",
   "mimetype": "text/x-python",
   "name": "python",
   "nbconvert_exporter": "python",
   "pygments_lexer": "ipython3",
   "version": "3.9.19"
  }
 },
 "nbformat": 4,
 "nbformat_minor": 5
}
